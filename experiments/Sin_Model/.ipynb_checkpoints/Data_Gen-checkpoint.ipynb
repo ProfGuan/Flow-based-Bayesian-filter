{
 "cells": [
  {
   "cell_type": "code",
   "execution_count": 1,
   "id": "1eb09678",
   "metadata": {},
   "outputs": [
    {
     "name": "stderr",
     "output_type": "stream",
     "text": [
      "/home/member/xtwang/anaconda3/lib/python3.9/site-packages/scipy/__init__.py:146: UserWarning: A NumPy version >=1.16.5 and <1.23.0 is required for this version of SciPy (detected version 1.23.0\n",
      "  warnings.warn(f\"A NumPy version >={np_minversion} and <{np_maxversion}\"\n"
     ]
    }
   ],
   "source": [
    "import matplotlib.pyplot as plt\n",
    "import random\n",
    "import numpy as np\n",
    "import os\n",
    "import math\n",
    "\n",
    "from State_Space_Model import Stochastic_Sin_System\n",
    "from tqdm import trange, tqdm\n",
    "from scipy.stats import multivariate_normal\n",
    "\n",
    "import warnings\n",
    "warnings.filterwarnings(\"ignore\")"
   ]
  },
  {
   "cell_type": "code",
   "execution_count": 6,
   "id": "410debdc",
   "metadata": {},
   "outputs": [
    {
     "name": "stdout",
     "output_type": "stream",
     "text": [
      "==> Generate training samples:\n"
     ]
    },
    {
     "name": "stderr",
     "output_type": "stream",
     "text": [
      "100%|██████████████████████████████████████████████████████████| 1000/1000 [00:02<00:00, 419.48it/s]\n"
     ]
    },
    {
     "name": "stdout",
     "output_type": "stream",
     "text": [
      "==> Generate test samples:\n"
     ]
    },
    {
     "name": "stderr",
     "output_type": "stream",
     "text": [
      "100%|█████████████████████████████████████████████████████████████| 200/200 [00:03<00:00, 59.17it/s]\n"
     ]
    }
   ],
   "source": [
    "######################################\n",
    "########## dataset parameters ########\n",
    "######################################\n",
    "params_dict = {\"alpha\":0.9, \"beta\": 1.1, \"phi\": 0.1 * np.pi, \"delta\": 0.01, \n",
    "               \"a\": 1, \"b\": 1, \"c\": 0}\n",
    "\n",
    "T = 100\n",
    "T_test = 800\n",
    "r2 = 0.05\n",
    "q2 = 0.1\n",
    "\n",
    "obs_type = 'NL'   # optional: I, linear, NL, partial, arctan\n",
    "m = 2\n",
    "n = 1\n",
    "\n",
    "if not os.path.exists('./Data'):\n",
    "    os.mkdir('./Data')\n",
    "\n",
    "dataFolderName = './Data/'\n",
    "N_train = 1000\n",
    "N_test = 200\n",
    "dataFileName = 'sin_q2={:.3f}_r2={:.3f}_T={}_Obs={}_Ntrain={}.npy'.format(q2, r2, T, obs_type, N_train)\n",
    "data_filename = dataFolderName + dataFileName\n",
    "\n",
    "######################################\n",
    "########### Generate Dataset #########\n",
    "######################################\n",
    "sde = Stochastic_Sin_System(params_dict, m, n, q2, r2)\n",
    "\n",
    "if not os.path.exists(data_filename):\n",
    "    x_train, y_train, x_test, y_test = sde.generate_sample(T, T_test, N_train, N_test, obs_type)\n",
    "    np.save(data_filename, [x_train, y_train, x_test, y_test])\n",
    "else:\n",
    "    print(\"Load prepared data...\")\n",
    "    x_train, y_train, x_test, y_test = np.load(data_filename, allow_pickle=True)"
   ]
  },
  {
   "cell_type": "code",
   "execution_count": 5,
   "id": "8c1cc3a0",
   "metadata": {},
   "outputs": [],
   "source": [
    "os.remove(data_filename)"
   ]
  },
  {
   "cell_type": "code",
   "execution_count": null,
   "id": "ba262699",
   "metadata": {},
   "outputs": [],
   "source": []
  },
  {
   "cell_type": "code",
   "execution_count": null,
   "id": "5ae784d0",
   "metadata": {},
   "outputs": [],
   "source": []
  },
  {
   "cell_type": "code",
   "execution_count": null,
   "id": "bd29d7a2",
   "metadata": {},
   "outputs": [],
   "source": []
  },
  {
   "cell_type": "code",
   "execution_count": null,
   "id": "d9e4c5c7",
   "metadata": {},
   "outputs": [],
   "source": []
  },
  {
   "cell_type": "code",
   "execution_count": null,
   "id": "1cdd5b1d",
   "metadata": {},
   "outputs": [],
   "source": []
  },
  {
   "cell_type": "code",
   "execution_count": null,
   "id": "2a80e274",
   "metadata": {},
   "outputs": [],
   "source": []
  },
  {
   "cell_type": "code",
   "execution_count": null,
   "id": "9af3bd18",
   "metadata": {},
   "outputs": [],
   "source": []
  },
  {
   "cell_type": "code",
   "execution_count": null,
   "id": "d6de1dd6",
   "metadata": {},
   "outputs": [],
   "source": []
  },
  {
   "cell_type": "code",
   "execution_count": null,
   "id": "075fbddd",
   "metadata": {},
   "outputs": [],
   "source": []
  }
 ],
 "metadata": {
  "kernelspec": {
   "display_name": "Python 3 (ipykernel)",
   "language": "python",
   "name": "python3"
  },
  "language_info": {
   "codemirror_mode": {
    "name": "ipython",
    "version": 3
   },
   "file_extension": ".py",
   "mimetype": "text/x-python",
   "name": "python",
   "nbconvert_exporter": "python",
   "pygments_lexer": "ipython3",
   "version": "3.9.7"
  }
 },
 "nbformat": 4,
 "nbformat_minor": 5
}
