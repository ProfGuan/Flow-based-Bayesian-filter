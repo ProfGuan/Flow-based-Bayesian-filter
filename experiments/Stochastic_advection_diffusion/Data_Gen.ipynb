{
 "cells": [
  {
   "cell_type": "code",
   "execution_count": 3,
   "id": "1477e916",
   "metadata": {},
   "outputs": [],
   "source": [
    "import random\n",
    "import numpy as np\n",
    "import os\n",
    "import math\n",
    "import matplotlib.pyplot as plt\n",
    "import matplotlib.gridspec as gridspec\n",
    "\n",
    "from mpl_toolkits.axes_grid1 import make_axes_locatable\n",
    "from scipy.stats import multivariate_normal\n",
    "from tqdm import trange, tqdm\n",
    "from State_Space_Model import Stochastic_AD_System\n",
    "\n",
    "import scipy.sparse as sp\n",
    "import scipy.sparse.linalg as spla\n",
    "\n",
    "import warnings\n",
    "warnings.filterwarnings(\"ignore\")"
   ]
  },
  {
   "cell_type": "code",
   "execution_count": 7,
   "id": "b325f098",
   "metadata": {},
   "outputs": [],
   "source": [
    "######################################\n",
    "########## dataset parameters ########\n",
    "######################################\n",
    "# Parameters\n",
    "L = 1.0               # Length of the domain\n",
    "T = 10.0             # Total simulation time\n",
    "k = 1               # advection coefficient\n",
    "D = 0.1               # Diffusion coefficient\n",
    "\n",
    "Nx = 100               # Number of spatial grid points\n",
    "Nt = 200             # Number of time steps\n",
    "params_dict = {\"L\": L, \"T\": T, \"D\": D, \"k\": k, \"Nx\": Nx, \"Nt\": Nt}\n",
    "\n",
    "sigma = 10\n",
    "obs_type = \"PN\"\n",
    "N_s = 10\n",
    "N_train = 1000\n",
    "N_test = 200\n",
    "\n",
    "dataFolderName = './Data/'\n",
    "# if obs_type == \"PN\":\n",
    "#     dataFileName = 'SAD_s={:.1f}_m={}_T={}_obs={}.npy'.format(sigma, r2, Nx, Nt, obs_type, len(sensor_index))\n",
    "# else:\n",
    "dataFileName = 'SAD_s={:.1f}_m={}_T={}.npy'.format(sigma, Nx, Nt)\n",
    "data_filename = dataFolderName + dataFileName\n",
    "\n",
    "if not os.path.exists('./Data'):\n",
    "    os.mkdir('./Data')    \n",
    "   \n",
    "SAD = Stochastic_AD_System(params_dict, sigma, obs_type, sensor_index)"
   ]
  },
  {
   "cell_type": "code",
   "execution_count": 8,
   "id": "1ef877ee",
   "metadata": {},
   "outputs": [
    {
     "name": "stdout",
     "output_type": "stream",
     "text": [
      "Load prepared data...\n"
     ]
    }
   ],
   "source": [
    "#########################################    \n",
    "########### Generate State Data #########    \n",
    "#########################################  \n",
    "if not os.path.exists(data_filename):\n",
    "    x_train, x_test = SAD.generate_state_sample(N_train, N_test)\n",
    "    np.save(data_filename, np.array([x_train, x_test], dtype=object))\n",
    "else:\n",
    "    print(\"Load prepared data...\")\n",
    "    x_train, x_test = np.load(data_filename, allow_pickle=True)"
   ]
  },
  {
   "cell_type": "code",
   "execution_count": 15,
   "id": "c4bc8e5f",
   "metadata": {},
   "outputs": [],
   "source": [
    "#######################################\n",
    "############# Hyparams setting ########\n",
    "#######################################\n",
    "r2 = 0.25\n",
    "N_s = 10  # number of sensors\n",
    "\n",
    "# OBSERVATION NOISE\n",
    "obs_noise_trn = np.sqrt(r2) * np.random.randn(N_train, Nt, Nx)\n",
    "obs_noise_test = np.sqrt(r2) * np.random.randn(N_test, Nt, Nx)\n",
    "\n",
    "np.savez('./Data/obs_noise_r2={}.npz'.format(r2), train=obs_noise_trn, test=obs_noise_test)"
   ]
  },
  {
   "cell_type": "code",
   "execution_count": 10,
   "id": "727968c3",
   "metadata": {},
   "outputs": [],
   "source": [
    "# print(\"Number of sensors:\", N_s)\n",
    "if N_s == 20:\n",
    "    sensor_index = np.arange(2, Nx, 5)\n",
    "elif N_s == 15:\n",
    "    sensor_index = np.arange(0, Nx, 7)\n",
    "elif N_s == 10:\n",
    "    sensor_index = np.arange(5, Nx, 10)\n",
    "elif N_s == 25:\n",
    "    sensor_index = np.arange(0, Nx, 4)\n",
    "\n",
    "# print(\"Sensor configuartion:\")\n",
    "# print(sensor_index)\n",
    "\n",
    "#########################################\n",
    "########### Generate Obs Data ###########\n",
    "#########################################\n",
    "obs_noise = np.load('./Data/obs_noise_r2={}.npz'.format(r2))\n",
    "obs_noise_trn = obs_noise['train']\n",
    "obs_noise_test = obs_noise['test']\n",
    "\n",
    "y_train = SAD.h(x_train, SAD.obs_type)[..., sensor_index] + obs_noise_trn[..., sensor_index]\n",
    "y_test = SAD.h(x_test, SAD.obs_type)[..., sensor_index] + obs_noise_test[..., sensor_index]"
   ]
  },
  {
   "cell_type": "code",
   "execution_count": 5,
   "id": "3f1deca5",
   "metadata": {},
   "outputs": [],
   "source": [
    "# os.remove(data_filename)"
   ]
  },
  {
   "cell_type": "code",
   "execution_count": 14,
   "id": "930c3286",
   "metadata": {},
   "outputs": [
    {
     "data": {
      "text/plain": [
       "[<matplotlib.lines.Line2D at 0x7f1aa8170790>]"
      ]
     },
     "execution_count": 14,
     "metadata": {},
     "output_type": "execute_result"
    },
    {
     "data": {
      "image/png": "[encoded data removed]",
      "text/plain": [
       "<Figure size 432x288 with 1 Axes>"
      ]
     },
     "metadata": {
      "needs_background": "light"
     },
     "output_type": "display_data"
    }
   ],
   "source": [
    "u = x_test[0, -1]\n",
    "plt.plot(SAD.x, u)"
   ]
  },
  {
   "cell_type": "code",
   "execution_count": null,
   "id": "597feb9b",
   "metadata": {},
   "outputs": [],
   "source": []
  },
  {
   "cell_type": "code",
   "execution_count": null,
   "id": "9a785a7b",
   "metadata": {},
   "outputs": [],
   "source": []
  },
  {
   "cell_type": "code",
   "execution_count": null,
   "id": "f53fab64",
   "metadata": {},
   "outputs": [],
   "source": []
  }
 ],
 "metadata": {
  "kernelspec": {
   "display_name": "Python 3 (ipykernel)",
   "language": "python",
   "name": "python3"
  },
  "language_info": {
   "codemirror_mode": {
    "name": "ipython",
    "version": 3
   },
   "file_extension": ".py",
   "mimetype": "text/x-python",
   "name": "python",
   "nbconvert_exporter": "python",
   "pygments_lexer": "ipython3",
   "version": "3.9.7"
  }
 },
 "nbformat": 4,
 "nbformat_minor": 5
}
